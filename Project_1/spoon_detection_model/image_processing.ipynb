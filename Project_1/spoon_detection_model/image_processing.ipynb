{
 "cells": [
  {
   "cell_type": "code",
   "execution_count": 4,
   "metadata": {},
   "outputs": [],
   "source": [
    "#Code to convert raw images to 96x96 Grayscale Images\n",
    "\n",
    "\n",
    "import os\n",
    "from PIL import Image"
   ]
  },
  {
   "cell_type": "code",
   "execution_count": 3,
   "metadata": {},
   "outputs": [],
   "source": [
    "# set the paths for the input and output directories\n",
    "input_dir = 'spoon-training-images/spoon'\n",
    "output_dir = 'spoon-training-images-converted/spoon'\n",
    "\n",
    "\n",
    "\n",
    "# loop over all the files in the input directory\n",
    "for i, filename in enumerate(os.listdir(input_dir)):\n",
    "    # check if the file is an image\n",
    "    if filename.endswith('.jpg') or filename.endswith('.jpeg') or filename.endswith('.png'):\n",
    "\n",
    "        with Image.open(os.path.join(input_dir, filename)) as img:\n",
    "            if img.mode != 'L':\n",
    "                img = img.convert('L')\n",
    "            img = img.resize((96, 96))\n",
    "            output_name = f'spoon{i+1}.jpg'\n",
    "        \n",
    "            output_path = os.path.join(output_dir, output_name)\n",
    "            img.save(output_path, 'JPEG')\n"
   ]
  },
  {
   "cell_type": "code",
   "execution_count": 5,
   "metadata": {},
   "outputs": [],
   "source": [
    "# set the paths for the input and output directories\n",
    "input_dir = 'spoon-training-images/non-spoon'\n",
    "output_dir = 'spoon-training-images-converted/non-spoon'\n",
    "\n",
    "\n",
    "\n",
    "# loop over all the files in the input directory\n",
    "for i, filename in enumerate(os.listdir(input_dir)):\n",
    "    # check if the file is an image\n",
    "    if filename.endswith('.jpg') or filename.endswith('.jpeg') or filename.endswith('.png'):\n",
    "        \n",
    "        with Image.open(os.path.join(input_dir, filename)) as img:\n",
    "            \n",
    "            if img.mode != 'L':\n",
    "                img = img.convert('L')\n",
    "            img = img.resize((96, 96))\n",
    "            output_name = f'image{i+1}.jpg'\n",
    "            \n",
    "            output_path = os.path.join(output_dir, output_name)\n",
    "            img.save(output_path, 'JPEG')"
   ]
  }
 ],
 "metadata": {
  "kernelspec": {
   "display_name": "Python 3",
   "language": "python",
   "name": "python3"
  },
  "language_info": {
   "codemirror_mode": {
    "name": "ipython",
    "version": 3
   },
   "file_extension": ".py",
   "mimetype": "text/x-python",
   "name": "python",
   "nbconvert_exporter": "python",
   "pygments_lexer": "ipython3",
   "version": "3.9.13"
  },
  "orig_nbformat": 4
 },
 "nbformat": 4,
 "nbformat_minor": 2
}
