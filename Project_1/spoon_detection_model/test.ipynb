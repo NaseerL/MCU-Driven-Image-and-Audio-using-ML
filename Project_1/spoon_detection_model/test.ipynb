{
 "cells": [
  {
   "cell_type": "code",
   "execution_count": 1,
   "metadata": {},
   "outputs": [
    {
     "ename": "FileNotFoundError",
     "evalue": "[WinError 3] The system cannot find the path specified: 'c:\\\\Users\\\\Naseer\\\\OneDrive\\\\Desktop\\\\Spring-2023\\\\ECGR5127-Machine_Learning_for_IoT\\\\Project_1\\\\spoon_detection_model\\\\spoon-training-images-converted/person'",
     "output_type": "error",
     "traceback": [
      "\u001b[1;31m---------------------------------------------------------------------------\u001b[0m",
      "\u001b[1;31mFileNotFoundError\u001b[0m                         Traceback (most recent call last)",
      "Cell \u001b[1;32mIn[1], line 37\u001b[0m\n\u001b[0;32m     18\u001b[0m \u001b[39m'''\u001b[39;00m\n\u001b[0;32m     19\u001b[0m \u001b[39m# Create data generator for test data\u001b[39;00m\n\u001b[0;32m     20\u001b[0m \u001b[39mtest_datagen = tf.keras.preprocessing.image.ImageDataGenerator(rescale=1. / 255)\u001b[39;00m\n\u001b[1;32m   (...)\u001b[0m\n\u001b[0;32m     26\u001b[0m \u001b[39m    shuffle=False)\u001b[39;00m\n\u001b[0;32m     27\u001b[0m \u001b[39m'''\u001b[39;00m\n\u001b[0;32m     29\u001b[0m datagen \u001b[39m=\u001b[39m tf\u001b[39m.\u001b[39mkeras\u001b[39m.\u001b[39mpreprocessing\u001b[39m.\u001b[39mimage\u001b[39m.\u001b[39mImageDataGenerator(\n\u001b[0;32m     30\u001b[0m     rotation_range\u001b[39m=\u001b[39m\u001b[39m10\u001b[39m,\n\u001b[0;32m     31\u001b[0m     width_shift_range\u001b[39m=\u001b[39m\u001b[39m0.05\u001b[39m,\n\u001b[1;32m   (...)\u001b[0m\n\u001b[0;32m     35\u001b[0m     validation_split\u001b[39m=\u001b[39m\u001b[39m0.1\u001b[39m,\n\u001b[0;32m     36\u001b[0m     rescale\u001b[39m=\u001b[39m\u001b[39m1.\u001b[39m \u001b[39m/\u001b[39m \u001b[39m255\u001b[39m)\n\u001b[1;32m---> 37\u001b[0m train_generator \u001b[39m=\u001b[39m datagen\u001b[39m.\u001b[39;49mflow_from_directory(\n\u001b[0;32m     38\u001b[0m     BASE_DIR,\n\u001b[0;32m     39\u001b[0m     target_size\u001b[39m=\u001b[39;49m(IMAGE_SIZE, IMAGE_SIZE),\n\u001b[0;32m     40\u001b[0m     batch_size\u001b[39m=\u001b[39;49mBATCH_SIZE,\n\u001b[0;32m     41\u001b[0m     subset\u001b[39m=\u001b[39;49m\u001b[39m'\u001b[39;49m\u001b[39mtraining\u001b[39;49m\u001b[39m'\u001b[39;49m,\n\u001b[0;32m     42\u001b[0m     color_mode\u001b[39m=\u001b[39;49m\u001b[39m'\u001b[39;49m\u001b[39mgrayscale\u001b[39;49m\u001b[39m'\u001b[39;49m)\n\u001b[0;32m     43\u001b[0m val_generator \u001b[39m=\u001b[39m datagen\u001b[39m.\u001b[39mflow_from_directory(\n\u001b[0;32m     44\u001b[0m     BASE_DIR,\n\u001b[0;32m     45\u001b[0m     target_size\u001b[39m=\u001b[39m(IMAGE_SIZE, IMAGE_SIZE),\n\u001b[0;32m     46\u001b[0m     batch_size\u001b[39m=\u001b[39mBATCH_SIZE,\n\u001b[0;32m     47\u001b[0m     subset\u001b[39m=\u001b[39m\u001b[39m'\u001b[39m\u001b[39mvalidation\u001b[39m\u001b[39m'\u001b[39m,\n\u001b[0;32m     48\u001b[0m     color_mode\u001b[39m=\u001b[39m\u001b[39m'\u001b[39m\u001b[39mgrayscale\u001b[39m\u001b[39m'\u001b[39m)\n\u001b[0;32m     49\u001b[0m \u001b[39mprint\u001b[39m(train_generator\u001b[39m.\u001b[39mclass_indices)\n",
      "File \u001b[1;32mc:\\Users\\Naseer\\AppData\\Local\\Programs\\Python\\Python39\\lib\\site-packages\\keras\\preprocessing\\image.py:1648\u001b[0m, in \u001b[0;36mImageDataGenerator.flow_from_directory\u001b[1;34m(self, directory, target_size, color_mode, classes, class_mode, batch_size, shuffle, seed, save_to_dir, save_prefix, save_format, follow_links, subset, interpolation, keep_aspect_ratio)\u001b[0m\n\u001b[0;32m   1562\u001b[0m \u001b[39mdef\u001b[39;00m \u001b[39mflow_from_directory\u001b[39m(\n\u001b[0;32m   1563\u001b[0m     \u001b[39mself\u001b[39m,\n\u001b[0;32m   1564\u001b[0m     directory,\n\u001b[1;32m   (...)\u001b[0m\n\u001b[0;32m   1578\u001b[0m     keep_aspect_ratio\u001b[39m=\u001b[39m\u001b[39mFalse\u001b[39;00m,\n\u001b[0;32m   1579\u001b[0m ):\n\u001b[0;32m   1580\u001b[0m \u001b[39m    \u001b[39m\u001b[39m\"\"\"Takes the path to a directory & generates batches of augmented data.\u001b[39;00m\n\u001b[0;32m   1581\u001b[0m \n\u001b[0;32m   1582\u001b[0m \u001b[39m    Args:\u001b[39;00m\n\u001b[1;32m   (...)\u001b[0m\n\u001b[0;32m   1646\u001b[0m \u001b[39m            and `y` is a numpy array of corresponding labels.\u001b[39;00m\n\u001b[0;32m   1647\u001b[0m \u001b[39m    \"\"\"\u001b[39;00m\n\u001b[1;32m-> 1648\u001b[0m     \u001b[39mreturn\u001b[39;00m DirectoryIterator(\n\u001b[0;32m   1649\u001b[0m         directory,\n\u001b[0;32m   1650\u001b[0m         \u001b[39mself\u001b[39;49m,\n\u001b[0;32m   1651\u001b[0m         target_size\u001b[39m=\u001b[39;49mtarget_size,\n\u001b[0;32m   1652\u001b[0m         color_mode\u001b[39m=\u001b[39;49mcolor_mode,\n\u001b[0;32m   1653\u001b[0m         keep_aspect_ratio\u001b[39m=\u001b[39;49mkeep_aspect_ratio,\n\u001b[0;32m   1654\u001b[0m         classes\u001b[39m=\u001b[39;49mclasses,\n\u001b[0;32m   1655\u001b[0m         class_mode\u001b[39m=\u001b[39;49mclass_mode,\n\u001b[0;32m   1656\u001b[0m         data_format\u001b[39m=\u001b[39;49m\u001b[39mself\u001b[39;49m\u001b[39m.\u001b[39;49mdata_format,\n\u001b[0;32m   1657\u001b[0m         batch_size\u001b[39m=\u001b[39;49mbatch_size,\n\u001b[0;32m   1658\u001b[0m         shuffle\u001b[39m=\u001b[39;49mshuffle,\n\u001b[0;32m   1659\u001b[0m         seed\u001b[39m=\u001b[39;49mseed,\n\u001b[0;32m   1660\u001b[0m         save_to_dir\u001b[39m=\u001b[39;49msave_to_dir,\n\u001b[0;32m   1661\u001b[0m         save_prefix\u001b[39m=\u001b[39;49msave_prefix,\n\u001b[0;32m   1662\u001b[0m         save_format\u001b[39m=\u001b[39;49msave_format,\n\u001b[0;32m   1663\u001b[0m         follow_links\u001b[39m=\u001b[39;49mfollow_links,\n\u001b[0;32m   1664\u001b[0m         subset\u001b[39m=\u001b[39;49msubset,\n\u001b[0;32m   1665\u001b[0m         interpolation\u001b[39m=\u001b[39;49minterpolation,\n\u001b[0;32m   1666\u001b[0m         dtype\u001b[39m=\u001b[39;49m\u001b[39mself\u001b[39;49m\u001b[39m.\u001b[39;49mdtype,\n\u001b[0;32m   1667\u001b[0m     )\n",
      "File \u001b[1;32mc:\\Users\\Naseer\\AppData\\Local\\Programs\\Python\\Python39\\lib\\site-packages\\keras\\preprocessing\\image.py:563\u001b[0m, in \u001b[0;36mDirectoryIterator.__init__\u001b[1;34m(self, directory, image_data_generator, target_size, color_mode, classes, class_mode, batch_size, shuffle, seed, data_format, save_to_dir, save_prefix, save_format, follow_links, subset, interpolation, keep_aspect_ratio, dtype)\u001b[0m\n\u001b[0;32m    561\u001b[0m \u001b[39mif\u001b[39;00m \u001b[39mnot\u001b[39;00m classes:\n\u001b[0;32m    562\u001b[0m     classes \u001b[39m=\u001b[39m []\n\u001b[1;32m--> 563\u001b[0m     \u001b[39mfor\u001b[39;00m subdir \u001b[39min\u001b[39;00m \u001b[39msorted\u001b[39m(os\u001b[39m.\u001b[39;49mlistdir(directory)):\n\u001b[0;32m    564\u001b[0m         \u001b[39mif\u001b[39;00m os\u001b[39m.\u001b[39mpath\u001b[39m.\u001b[39misdir(os\u001b[39m.\u001b[39mpath\u001b[39m.\u001b[39mjoin(directory, subdir)):\n\u001b[0;32m    565\u001b[0m             classes\u001b[39m.\u001b[39mappend(subdir)\n",
      "\u001b[1;31mFileNotFoundError\u001b[0m: [WinError 3] The system cannot find the path specified: 'c:\\\\Users\\\\Naseer\\\\OneDrive\\\\Desktop\\\\Spring-2023\\\\ECGR5127-Machine_Learning_for_IoT\\\\Project_1\\\\spoon_detection_model\\\\spoon-training-images-converted/person'"
     ]
    }
   ],
   "source": [
    "import os\n",
    "import numpy as np\n",
    "from sklearn.metrics import confusion_matrix\n",
    "from spoon_detection_model import my_spoon_detection_model\n",
    "import tensorflow as tf\n",
    "import tensorflow as tf\n",
    "\n",
    "assert tf.__version__.startswith('2')\n",
    "\n",
    "IMAGE_SIZE = 96\n",
    "BATCH_SIZE = 32\n",
    "\n",
    "BASE_DIR = os.path.join(os.getcwd(), 'spoon-training-images-converted/spoon')\n",
    "\n",
    "# Load pre-trained model\n",
    "model = tf.keras.models.load_model('trained_models/spoon_detection_model.h5')\n",
    "\n",
    "'''\n",
    "# Create data generator for test data\n",
    "test_datagen = tf.keras.preprocessing.image.ImageDataGenerator(rescale=1. / 255)\n",
    "test_generator = test_datagen.flow_from_directory(\n",
    "    BASE_DIR,\n",
    "    target_size=(IMAGE_SIZE, IMAGE_SIZE),\n",
    "    batch_size=BATCH_SIZE,\n",
    "    color_mode='grayscale',\n",
    "    shuffle=False)\n",
    "'''\n",
    "\n",
    "datagen = tf.keras.preprocessing.image.ImageDataGenerator(\n",
    "    rotation_range=10,\n",
    "    width_shift_range=0.05,\n",
    "    height_shift_range=0.05,\n",
    "    zoom_range=.1,\n",
    "    horizontal_flip=True,\n",
    "    validation_split=0.1,\n",
    "    rescale=1. / 255)\n",
    "train_generator = datagen.flow_from_directory(\n",
    "    BASE_DIR,\n",
    "    target_size=(IMAGE_SIZE, IMAGE_SIZE),\n",
    "    batch_size=BATCH_SIZE,\n",
    "    subset='training',\n",
    "    color_mode='grayscale')\n",
    "val_generator = datagen.flow_from_directory(\n",
    "    BASE_DIR,\n",
    "    target_size=(IMAGE_SIZE, IMAGE_SIZE),\n",
    "    batch_size=BATCH_SIZE,\n",
    "    subset='validation',\n",
    "    color_mode='grayscale')\n",
    "print(train_generator.class_indices)\n",
    "\n",
    "# Evaluate model on training data\n",
    "_, train_acc = model.evaluate(train_generator)\n",
    "print('Training Accuracy:', train_acc)\n",
    "\n",
    "# Evaluate model on validation data\n",
    "_, val_acc = model.evaluate(val_generator)\n",
    "print('Validation Accuracy:', val_acc)\n",
    "\n",
    "# Evaluate model on test data\n",
    "test_loss, test_acc = model.evaluate(train_generator)\n",
    "print('Test Accuracy:', test_acc)\n",
    "\n",
    "# Compute FRR and FPR\n",
    "y_pred = model.predict(train_generator)\n",
    "y_pred_classes = np.argmax(y_pred, axis=1)\n",
    "y_true = train_generator.classes\n",
    "cm = confusion_matrix(y_true, y_pred_classes)\n",
    "tn, fp, fn, tp = cm.ravel()\n",
    "frr = fn / (fn + tp)\n",
    "fpr = fp / (fp + tn)\n",
    "print('FRR:', frr)\n",
    "print('FPR:', fpr)\n"
   ]
  },
  {
   "cell_type": "code",
   "execution_count": 11,
   "metadata": {},
   "outputs": [
    {
     "ename": "AttributeError",
     "evalue": "module 'tensorflow.profiler.experimental' has no attribute 'Profiler'",
     "output_type": "error",
     "traceback": [
      "\u001b[1;31m---------------------------------------------------------------------------\u001b[0m",
      "\u001b[1;31mAttributeError\u001b[0m                            Traceback (most recent call last)",
      "Cell \u001b[1;32mIn[11], line 16\u001b[0m\n\u001b[0;32m     11\u001b[0m output_signature \u001b[39m=\u001b[39m [\n\u001b[0;32m     12\u001b[0m     tf\u001b[39m.\u001b[39mTensorSpec(shape\u001b[39m=\u001b[39m(\u001b[39mNone\u001b[39;00m, \u001b[39m2\u001b[39m), dtype\u001b[39m=\u001b[39mtf\u001b[39m.\u001b[39mfloat32, name\u001b[39m=\u001b[39m\u001b[39m'\u001b[39m\u001b[39moutput\u001b[39m\u001b[39m'\u001b[39m)\n\u001b[0;32m     13\u001b[0m ]\n\u001b[0;32m     15\u001b[0m \u001b[39m# Profile the model to find number of MACs\u001b[39;00m\n\u001b[1;32m---> 16\u001b[0m profiler \u001b[39m=\u001b[39m tf\u001b[39m.\u001b[39;49mprofiler\u001b[39m.\u001b[39;49mexperimental\u001b[39m.\u001b[39;49mProfiler(\u001b[39m'\u001b[39m\u001b[39m/tmp/profile\u001b[39m\u001b[39m'\u001b[39m)\n\u001b[0;32m     17\u001b[0m profiler\u001b[39m.\u001b[39mstart()\n\u001b[0;32m     18\u001b[0m result \u001b[39m=\u001b[39m model(tf\u001b[39m.\u001b[39mones(input_shape))\n",
      "\u001b[1;31mAttributeError\u001b[0m: module 'tensorflow.profiler.experimental' has no attribute 'Profiler'"
     ]
    }
   ],
   "source": [
    "import tensorflow as tf\n",
    "\n",
    "# Load your trained model\n",
    "model = tf.keras.models.load_model('spoon_detection_model.h5')\n",
    "\n",
    "# Create input and output signatures\n",
    "input_shape = (1, 96, 96, 1)\n",
    "input_signature = [\n",
    "    tf.TensorSpec(shape=input_shape, dtype=tf.float32, name='input')\n",
    "]\n",
    "output_signature = [\n",
    "    tf.TensorSpec(shape=(None, 2), dtype=tf.float32, name='output')\n",
    "]\n",
    "\n",
    "# Profile the model to find number of MACs\n",
    "profiler = tf.profiler.experimental.Profiler('/tmp/profile')\n",
    "profiler.start()\n",
    "result = model(tf.ones(input_shape))\n",
    "profiler.stop()\n",
    "\n",
    "# Print the number of MACs\n",
    "stats = profiler.profile_operations(profiled_tensors=[result.op])\n",
    "macs = sum([stat.total_float_ops for stat in stats])\n",
    "print(f\"Number of MACs: {macs}\")\n"
   ]
  }
 ],
 "metadata": {
  "kernelspec": {
   "display_name": "Python 3",
   "language": "python",
   "name": "python3"
  },
  "language_info": {
   "codemirror_mode": {
    "name": "ipython",
    "version": 3
   },
   "file_extension": ".py",
   "mimetype": "text/x-python",
   "name": "python",
   "nbconvert_exporter": "python",
   "pygments_lexer": "ipython3",
   "version": "3.9.13"
  },
  "orig_nbformat": 4
 },
 "nbformat": 4,
 "nbformat_minor": 2
}
