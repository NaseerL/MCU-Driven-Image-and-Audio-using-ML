{
 "cells": [
  {
   "cell_type": "code",
   "execution_count": 3,
   "metadata": {},
   "outputs": [],
   "source": [
    "import tensorflow.keras as keras\n",
    "from tensorflow.keras.models import load_model\n",
    "from PIL import Image\n",
    "import numpy as np"
   ]
  },
  {
   "cell_type": "code",
   "execution_count": 4,
   "metadata": {},
   "outputs": [
    {
     "name": "stdout",
     "output_type": "stream",
     "text": [
      "1/1 [==============================] - 1s 1s/step\n",
      "The image is a spoon\n"
     ]
    }
   ],
   "source": [
    "# Load saved model\n",
    "model = keras.models.load_model(\"trained_models/spoon_detection_model.h5\")\n",
    "\n",
    "# Load and preprocess input image\n",
    "img = Image.open('non_spoon1.jpg')\n",
    "#img = img.resize((96, 96))\n",
    "#img = img.convert('L')\n",
    "img = np.array(img)\n",
    "img = img.reshape((1, 96, 96))\n",
    "img = img / 255.0\n",
    "\n",
    "\n",
    "# Test model on input image\n",
    "prediction = model.predict(img)\n",
    "class_idx = np.argmax(prediction)\n",
    "class_names = ['spoon', 'non_spoon']\n",
    "class_name = class_names[class_idx]\n",
    "\n",
    "\n",
    "if class_idx == 0:\n",
    "    print(\"The image is a\", class_name)\n",
    "else:\n",
    "    print(\"The image is a\", class_name)"
   ]
  }
 ],
 "metadata": {
  "kernelspec": {
   "display_name": "Python 3",
   "language": "python",
   "name": "python3"
  },
  "language_info": {
   "codemirror_mode": {
    "name": "ipython",
    "version": 3
   },
   "file_extension": ".py",
   "mimetype": "text/x-python",
   "name": "python",
   "nbconvert_exporter": "python",
   "pygments_lexer": "ipython3",
   "version": "3.9.13"
  },
  "orig_nbformat": 4
 },
 "nbformat": 4,
 "nbformat_minor": 2
}
