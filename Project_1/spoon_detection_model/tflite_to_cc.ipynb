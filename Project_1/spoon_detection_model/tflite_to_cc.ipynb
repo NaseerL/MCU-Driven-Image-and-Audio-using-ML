{
 "cells": [
  {
   "cell_type": "code",
   "execution_count": null,
   "metadata": {},
   "outputs": [],
   "source": [
    "!xxd -i trained_models/spoon_detection_model_int8.tflite > trained_models/spoon_detection_model.cc"
   ]
  }
 ],
 "metadata": {
  "language_info": {
   "name": "python"
  },
  "orig_nbformat": 4
 },
 "nbformat": 4,
 "nbformat_minor": 2
}
